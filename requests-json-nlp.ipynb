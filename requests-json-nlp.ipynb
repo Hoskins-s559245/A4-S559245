{
 "cells": [
  {
   "cell_type": "markdown",
   "metadata": {},
   "source": [
    "# Web Mining and Applied NLP (44-620)\n",
    "\n",
    "## Requests, JSON, and NLP\n",
    "\n",
    "### Student Name:\n",
    "\n",
    "Perform the tasks described in the Markdown cells below.  When you have completed the assignment make sure your code cells have all been run (and have output beneath them) and ensure you have committed and pushed ALL of your changes to your assignment repository.\n",
    "\n",
    "Make sure you have [installed spaCy and its pipeline](https://spacy.io/usage#quickstart) and [spaCyTextBlob](https://spacy.io/universe/project/spacy-textblob)\n",
    "\n",
    "Every question that requires you to write code will have a code cell underneath it; you may either write your entire solution in that cell or write it in a python file (`.py`), then import and run the appropriate code to answer the question.\n",
    "\n",
    "This assignment requires that you write additional files (either JSON or pickle files); make sure to submit those files in your repository as well."
   ]
  },
  {
   "cell_type": "markdown",
   "metadata": {},
   "source": [
    "1. The following code accesses the [lyrics.ovh](https://lyricsovh.docs.apiary.io/#reference/0/lyrics-of-a-song/search) public api, searches for the lyrics of a song, and stores it in a dictionary object.  Write the resulting json to a file (either a JSON file or a pickle file; you choose). You will read in the contents of this file for future questions so we do not need to frequently access the API."
   ]
  },
  {
   "cell_type": "code",
   "execution_count": 134,
   "metadata": {},
   "outputs": [
    {
     "name": "stdout",
     "output_type": "stream",
     "text": [
      "Searching for \"Birdhouse in your soul\"...\n",
      "Done.\n",
      "They Might Be Giants\n",
      "52 ContributorsBirdhouse in Your Soul Lyrics[Bridge]\n",
      "I'm your only friend\n",
      "I'm not your only friend\n",
      "But I'm a little glowing friend\n",
      "But really I'm not actually your friend\n",
      "But I am\n",
      "\n",
      "[Chorus]\n",
      "Blue canary in the outlet by the light switch\n",
      "Who watches over you\n",
      "Make a little birdhouse in your soul\n",
      "Not to put too fine a point on it\n",
      "Say I'm the only bee in your bonnet\n",
      "Make a little birdhouse in your soul\n",
      "\n",
      "[Verse 1]\n",
      "I have a secret to tell\n",
      "From my electrical well\n",
      "It's a simple message and I'm\n",
      "Leaving out the whistles and bells\n",
      "So the room must listen to me\n",
      "Filibuster vigilantly\n",
      "My name is blue canary\n",
      "One note spelled l-i-t-e\n",
      "My story's infinite\n",
      "Like the Longines Symphonette\n",
      "It doesn't rest\n",
      "See They Might Be Giants LiveGet tickets as low as $40You might also like[Chorus]\n",
      "Blue canary in the outlet by the light switch\n",
      "Who watches over you\n",
      "Make a little birdhouse in your soul\n",
      "Not to put too fine a point on it\n",
      "Say I'm the only bee in your bonnet\n",
      "Make a little birdhouse in your soul\n",
      "\n",
      "[Bridge]\n",
      "I'm your only friend\n",
      "I'm not your only friend\n",
      "But I'm a little glowing friend\n",
      "But really I'm not actually your friend\n",
      "But I am\n",
      "\n",
      "[Verse 2]\n",
      "There's a picture opposite me\n",
      "Of my primitive ancestry\n",
      "Which stood on rocky shores\n",
      "And kept the beaches shipwreck-free\n",
      "Though I respect that a lot\n",
      "I'd be fired if that were my job\n",
      "After killing Jason off\n",
      "And countless screaming Argonauts\n",
      "Blue bird of friendliness\n",
      "Like guardian angels it's\n",
      "Always near\n",
      "[Chorus 2]\n",
      "Blue canary in the outlet by the light switch\n",
      "Who watches over you\n",
      "Make a little birdhouse in your soul\n",
      "Not to put too fine a point on it\n",
      "Say I'm the only bee in your bonnet\n",
      "Make a little birdhouse in your soul\n",
      "While you're at it\n",
      "Keep the nightlight on inside\n",
      "The birdhouse in your soul\n",
      "Not to put too fine a point on it\n",
      "Say I'm the only bee in your bonnet\n",
      "Make a little birdhouse in your soul\n",
      "While you're at it\n",
      "Keep the nightlight on inside\n",
      "The birdhouse in your soul\n",
      "(Blue canary in the outlet by the light switch\n",
      "Who watches over you\n",
      "Make a little birdhouse in your soul)\n",
      "Make a little birdhouse in your soul\n",
      "While you're at it\n",
      "Keep the nightlight on inside\n",
      "The birdhouse in your soul\n",
      "Not to put too fine a point on it\n",
      "Say I'm the only bee in your bonnet\n",
      "Make a little birdhouse in your soul19Embed\n"
     ]
    }
   ],
   "source": [
    "import json\n",
    "import spacy as spacy\n",
    "from spacytextblob.spacytextblob import SpacyTextBlob\n",
    "from lyricsgenius import Genius\n",
    "\n",
    "\n",
    "with open('C:/Users/Hoski/Desktop/MSDA Summer/44-620 Mining/Module 4/key.txt', 'r') as f:\n",
    "   token = f.readline()\n",
    "   \n",
    "genius = Genius(token)\n",
    "\n",
    "song = genius.search_song(\"Birdhouse in your soul\")\n",
    "lyrics = song.lyrics\n",
    "\n",
    "print(song.artist)\n",
    "print(lyrics)"
   ]
  },
  {
   "cell_type": "code",
   "execution_count": 135,
   "metadata": {},
   "outputs": [],
   "source": [
    "json_object = json.dumps(lyrics, indent=4)\n",
    "\n",
    "with open(\"Question1.json\", \"w\") as outfile:\n",
    "    outfile.write(json_object)\n",
    "\n"
   ]
  },
  {
   "attachments": {},
   "cell_type": "markdown",
   "metadata": {},
   "source": []
  },
  {
   "cell_type": "markdown",
   "metadata": {},
   "source": [
    "2. Read in the contents of your file.  Print the lyrics of the song (not the entire dictionary!) and use spaCyTextBlob to perform sentiment analysis on the lyrics.  Print the polarity score of the sentiment analysis.  Given that the range of the polarity score is `[-1.0,1.0]` which corresponds to how positive or negative the text in question is, do you think the lyrics have a more positive or negative connotaion?  Answer this question in a comment in your code cell."
   ]
  },
  {
   "cell_type": "code",
   "execution_count": 136,
   "metadata": {},
   "outputs": [
    {
     "name": "stdout",
     "output_type": "stream",
     "text": [
      "Polarity Score\n",
      "0.02575757575757576\n",
      "Subjectivity Score\n",
      "0.5308441558441559\n",
      "Sentiment Analysis Scores\n",
      "[(['only'], 0.0, 1.0, None), (['only'], 0.0, 1.0, None), (['little'], -0.1875, 0.5, None), (['really', 'not', 'actually'], -0.0, 0.1, None), (['blue'], 0.0, 0.1, None), (['light'], 0.4, 0.7, None), (['little'], -0.1875, 0.5, None), (['fine'], 0.4166666666666667, 0.5, None), (['only'], 0.0, 1.0, None), (['little'], -0.1875, 0.5, None), (['secret'], -0.4, 0.7, None), (['simple'], 0.0, 0.35714285714285715, None), (['blue'], 0.0, 0.1, None), (['low'], 0.0, 0.3, None), (['blue'], 0.0, 0.1, None), (['light'], 0.4, 0.7, None), (['little'], -0.1875, 0.5, None), (['fine'], 0.4166666666666667, 0.5, None), (['only'], 0.0, 1.0, None), (['little'], -0.1875, 0.5, None), (['only'], 0.0, 1.0, None), (['only'], 0.0, 1.0, None), (['little'], -0.1875, 0.5, None), (['really', 'not', 'actually'], -0.0, 0.1, None), (['opposite'], 0.0, 0.0, None), (['countless'], 0.0, 0.5, None), (['blue'], 0.0, 0.1, None), (['near'], 0.1, 0.4, None), (['blue'], 0.0, 0.1, None), (['light'], 0.4, 0.7, None), (['little'], -0.1875, 0.5, None), (['fine'], 0.4166666666666667, 0.5, None), (['only'], 0.0, 1.0, None), (['little'], -0.1875, 0.5, None), (['fine'], 0.4166666666666667, 0.5, None), (['only'], 0.0, 1.0, None), (['little'], -0.1875, 0.5, None), (['blue'], 0.0, 0.1, None), (['light'], 0.4, 0.7, None), (['little'], -0.1875, 0.5, None), (['little'], -0.1875, 0.5, None), (['fine'], 0.4166666666666667, 0.5, None), (['only'], 0.0, 1.0, None), (['little'], -0.1875, 0.5, None)]\n"
     ]
    }
   ],
   "source": [
    "with open('Question1.json') as json_file:\n",
    "    data = json.load(json_file)\n",
    "\n",
    "nlp = spacy.load('en_core_web_sm')\n",
    "nlp.add_pipe('spacytextblob')\n",
    "final = nlp(data)\n",
    "print(\"Polarity Score\")\n",
    "print(final._.blob.polarity)\n",
    "print(\"Subjectivity Score\")\n",
    "print(final._.blob.subjectivity)\n",
    "print(\"Sentiment Analysis Scores\")\n",
    "print(final._.blob.sentiment_assessments.assessments)\n",
    "\n",
    "## Question 2 - Do the Lyrics have a positive or negative connotation - Positive the lowest value is the word \"little\" which has a -.1875; with the highest being .5. The Polarity score is also Positive."
   ]
  },
  {
   "cell_type": "markdown",
   "metadata": {},
   "source": [
    "3. Write a function that takes an artist, song, and filename, accesses the lyrics.ovh api to get the song lyrics, and writes the results to the specified filename.  Test this function by getting the lyrics to any four songs of your choice and storing them in different files."
   ]
  },
  {
   "cell_type": "code",
   "execution_count": 137,
   "metadata": {},
   "outputs": [],
   "source": [
    "def music(msong, file):\n",
    "    with open('C:/Users/Hoski/Desktop/MSDA Summer/44-620 Mining/Module 4/key.txt', 'r') as f:\n",
    "            musictoken = f.readline()\n",
    "   \n",
    "    musicgenius = Genius(musictoken)\n",
    "\n",
    "    musicsong = musicgenius.search_song(msong)\n",
    "    musiclyrics = musicsong.lyrics\n",
    "    art = musicsong.artist\n",
    "    dict = {\n",
    "          \"Artist\": art,\n",
    "          \"Song\": msong,\n",
    "          \"Lyrics\": musiclyrics\n",
    "    }\n",
    "    mobject = json.dumps(dict, indent=4)\n",
    "\n",
    "    with open(file, \"w\") as outfile:\n",
    "        outfile.write(mobject)\n",
    "\n"
   ]
  },
  {
   "cell_type": "code",
   "execution_count": 155,
   "metadata": {},
   "outputs": [
    {
     "name": "stdout",
     "output_type": "stream",
     "text": [
      "Searching for \"Money For Nothing\"...\n",
      "Done.\n",
      "Searching for \"Everytime I die\"...\n",
      "Done.\n",
      "Searching for \"Together we Rise\"...\n",
      "Done.\n",
      "Searching for \"Fear of the Dark\"...\n",
      "Done.\n"
     ]
    }
   ],
   "source": [
    "music(\"Money For Nothing\", \"Direstraits.json\")\n",
    "music(\"Everytime I die\", \"CoB.json\")\n",
    "music(\"Together we Rise\", \"Windrose.json\")\n",
    "music(\"Fear of the Dark\", \"IronMaiden.json\")\n",
    "\n"
   ]
  },
  {
   "cell_type": "markdown",
   "metadata": {},
   "source": [
    "4. Write a function that takes the name of a file that contains song lyrics, loads the file, performs sentiment analysis, and returns the polarity score.  Use this function to print the polarity scores (with the name of the song) of the three files you created in question 3.  Does the reported polarity match your understanding of the song's lyrics? Why or why not do you think that might be?  Answer the questions in either a comment in the code cell or a markdown cell under the code cell."
   ]
  },
  {
   "cell_type": "code",
   "execution_count": 156,
   "metadata": {},
   "outputs": [],
   "source": [
    "def analysis(filename):\n",
    "    with open(filename) as json_file:\n",
    "        x = json.load(json_file)\n",
    "\n",
    "    nlp = spacy.load('en_core_web_sm')\n",
    "    nlp.add_pipe('spacytextblob')\n",
    "    analyzedlyrics = nlp(x['Lyrics'])\n",
    "    print(\"\")\n",
    "    print(\"Artist: \", x[\"Artist\"])\n",
    "    print(\"Song Title: \", x[\"Song\"])\n",
    "    print(\"Polarity Score\")\n",
    "    print(analyzedlyrics._.blob.polarity)\n",
    "    #print(\"Subjectivity Score\")\n",
    "    #print(analyzedlyrics._.blob.subjectivity)\n",
    "    print(\"Sentiment Analysis Scores\")\n",
    "    print(analyzedlyrics._.blob.sentiment_assessments.assessments)"
   ]
  },
  {
   "cell_type": "code",
   "execution_count": 157,
   "metadata": {},
   "outputs": [
    {
     "name": "stdout",
     "output_type": "stream",
     "text": [
      "\n",
      "Artist:  Dire Straits\n",
      "Song Title:  Money For Nothing\n",
      "Polarity Score\n",
      "0.3185483870967743\n",
      "Sentiment Analysis Scores\n",
      "[(['free'], 0.4, 0.8, None), (['dumb'], -0.375, 0.5, None), (['little'], -0.1875, 0.5, None), (['little'], -0.1875, 0.5, None), (['own'], 0.6, 1.0, None), (['little'], -0.1875, 0.5, None), (['own'], 0.6, 1.0, None), (['little'], -0.1875, 0.5, None), (['free'], 0.4, 0.8, None), (['free'], 0.4, 0.8, None), (['free'], 0.4, 0.8, None), (['free'], 0.4, 0.8, None), (['free'], 0.4, 0.8, None), (['free'], 0.4, 0.8, None), (['free'], 0.4, 0.8, None), (['free'], 0.4, 0.8, None), (['free'], 0.4, 0.8, None), (['free'], 0.4, 0.8, None), (['free'], 0.4, 0.8, None), (['free'], 0.4, 0.8, None), (['free'], 0.4, 0.8, None), (['free'], 0.4, 0.8, None), (['easy'], 0.43333333333333335, 0.8333333333333334, None), (['easy'], 0.43333333333333335, 0.8333333333333334, None), (['easy'], 0.43333333333333335, 0.8333333333333334, None), (['easy'], 0.43333333333333335, 0.8333333333333334, None), (['free'], 0.4, 0.8, None), (['easy'], 0.43333333333333335, 0.8333333333333334, None), (['easy'], 0.43333333333333335, 0.8333333333333334, None), (['free'], 0.4, 0.8, None), (['free'], 0.4, 0.8, None)]\n",
      "\n",
      "\n",
      "Artist:  Children of Bodom\n",
      "Song Title:  Everytime I die\n",
      "Polarity Score\n",
      "-0.12377777777777778\n",
      "Sentiment Analysis Scores\n",
      "[(['faint'], -0.5, 1.0, None), (['slowly'], -0.30000000000000004, 0.39999999999999997, None), (['broken'], -0.4, 0.4, None), (['high'], 0.16, 0.5399999999999999, None), (['cold'], -0.6, 1.0, None), (['light'], 0.4, 0.7, None), (['more'], 0.5, 0.5, None), (['painful'], -0.7, 0.9, None), (['no', 'more'], -0.25, 0.5, None), (['light'], 0.4, 0.7, None), (['black'], -0.16666666666666666, 0.43333333333333335, None), (['cold'], -0.6, 1.0, None), (['light'], 0.4, 0.7, None), (['more'], 0.5, 0.5, None), (['painful'], -0.7, 0.9, None)]\n",
      "\n",
      "\n",
      "Artist:  Wind Rose\n",
      "Song Title:  Together we Rise\n",
      "Polarity Score\n",
      "0.0062326388888888805\n",
      "Sentiment Analysis Scores\n",
      "[(['down'], -0.15555555555555559, 0.2888888888888889, None), (['fast'], 0.2, 0.6, None), (['full', '!', '!'], 0.546875, 0.55, None), (['straight'], 0.2, 0.4, None), (['dark'], -0.15, 0.4, None), (['far'], 0.1, 1.0, None), (['rose'], 0.6, 0.95, None), (['low'], 0.0, 0.3, None), (['ready'], 0.2, 0.5, None), (['cold'], -0.6, 1.0, None), (['ready'], 0.2, 0.5, None), (['cold'], -0.6, 1.0, None), (['strong'], 0.4333333333333333, 0.7333333333333333, None), (['back'], 0.0, 0.0, None), (['dark'], -0.15, 0.4, None), (['far'], 0.1, 1.0, None), (['ready'], 0.2, 0.5, None), (['cold'], -0.6, 1.0, None), (['ready'], 0.2, 0.5, None), (['cold'], -0.6, 1.0, None)]\n",
      "\n",
      "\n",
      "Artist:  Iron Maiden\n",
      "Song Title:  Fear of the Dark\n",
      "Polarity Score\n",
      "-0.09722222222222227\n",
      "Sentiment Analysis Scores\n",
      "[(['dark'], -0.15, 0.4, None), (['dark'], -0.15, 0.4, None), (['light'], 0.4, 0.7, None), (['little'], -0.1875, 0.5, None), (['strange'], -0.05, 0.15, None), (['little'], -0.1875, 0.5, None), (['anxious'], -0.25, 1.0, None), (['dark'], -0.15, 0.4, None), (['dark'], -0.15, 0.4, None), (['dark'], -0.15, 0.4, None), (['constant'], 0.0, 0.3333333333333333, None), (['near'], 0.1, 0.4, None), (['dark'], -0.15, 0.4, None), (['dark'], -0.15, 0.4, None), (['down'], -0.15555555555555559, 0.2888888888888889, None), (['light'], 0.4, 0.7, None), (['dark'], -0.15, 0.4, None), (['dark'], -0.15, 0.4, None), (['constant'], 0.0, 0.3333333333333333, None), (['near'], 0.1, 0.4, None), (['dark'], -0.15, 0.4, None), (['dark'], -0.15, 0.4, None), (['low'], 0.0, 0.3, None), (['behind'], -0.4, 0.7, None), (['hard'], -0.2916666666666667, 0.5416666666666666, None), (['sure'], 0.5, 0.8888888888888888, None), (['dark'], -0.15, 0.4, None), (['dark'], -0.15, 0.4, None), (['constant'], 0.0, 0.3333333333333333, None), (['near'], 0.1, 0.4, None), (['dark'], -0.15, 0.4, None), (['dark'], -0.15, 0.4, None), (['dark'], -0.15, 0.4, None), (['dark'], -0.15, 0.4, None), (['dark'], -0.15, 0.4, None), (['dark'], -0.15, 0.4, None), (['dark'], -0.15, 0.4, None), (['dark'], -0.15, 0.4, None), (['dark'], -0.15, 0.4, None), (['dark'], -0.15, 0.4, None), (['dark'], -0.15, 0.4, None), (['dark'], -0.15, 0.4, None), (['dark'], -0.15, 0.4, None), (['dark'], -0.15, 0.4, None), (['dark'], -0.15, 0.4, None), (['dark'], -0.15, 0.4, None), (['dark'], -0.15, 0.4, None), (['dark'], -0.15, 0.4, None), (['unknown'], -0.1, 0.6, None), (['suddenly'], 0.0, 0.5, None), (['behind'], -0.4, 0.7, None), (['dark'], -0.15, 0.4, None), (['dark'], -0.15, 0.4, None), (['constant'], 0.0, 0.3333333333333333, None), (['near'], 0.1, 0.4, None), (['dark'], -0.15, 0.4, None), (['dark'], -0.15, 0.4, None), (['dark'], -0.15, 0.4, None), (['dark'], -0.15, 0.4, None), (['constant'], 0.0, 0.3333333333333333, None), (['near'], 0.1, 0.4, None), (['dark'], -0.15, 0.4, None), (['dark'], -0.15, 0.4, None), (['dark'], -0.15, 0.4, None)]\n"
     ]
    }
   ],
   "source": [
    "analysis(\"Direstraits.json\")\n",
    "print(\"\")\n",
    "analysis(\"CoB.json\")\n",
    "print(\"\")\n",
    "analysis(\"Windrose.json\")\n",
    "print(\"\")\n",
    "analysis(\"IronMaiden.json\")"
   ]
  },
  {
   "attachments": {},
   "cell_type": "markdown",
   "metadata": {},
   "source": [
    " #### Does the reported polarity match your understanding of the song's lyrics? Why or why not do you think that might be?  Answer the questions in either a comment in the code cell or a markdown cell under the code cell.\n",
    "\n",
    "\n",
    "For the most part it did match what I knew of the lyrics, what suprised me though is the last song I did \"Fear of the Dark\" by Iron Maiden, because that song is so long (8 minutes), and has a very indepth description to the lyrics; I feel certain words like \"dark\" brought the score down dramatically. Where as the song \"Everytime I die\" is much shorter and well deserved lower score.\n"
   ]
  }
 ],
 "metadata": {
  "kernelspec": {
   "display_name": "Python 3",
   "language": "python",
   "name": "python3"
  },
  "language_info": {
   "codemirror_mode": {
    "name": "ipython",
    "version": 3
   },
   "file_extension": ".py",
   "mimetype": "text/x-python",
   "name": "python",
   "nbconvert_exporter": "python",
   "pygments_lexer": "ipython3",
   "version": "3.11.3"
  }
 },
 "nbformat": 4,
 "nbformat_minor": 4
}
